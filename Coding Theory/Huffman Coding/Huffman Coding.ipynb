{
 "cells": [
  {
   "cell_type": "code",
   "execution_count": 106,
   "metadata": {},
   "outputs": [],
   "source": [
    "import sys"
   ]
  },
  {
   "cell_type": "code",
   "execution_count": 110,
   "metadata": {},
   "outputs": [],
   "source": [
    "import collections\n",
    "from queue import PriorityQueue"
   ]
  },
  {
   "cell_type": "code",
   "execution_count": 111,
   "metadata": {},
   "outputs": [],
   "source": [
    "file = open('chicken.txt', 'r')\n",
    "text = file.read()\n",
    "file.close()\n",
    "text\n",
    "\n",
    "# Stop if file is empty\n",
    "if len(text) == 0:\n",
    "    print(\"empty file. Stopping\")\n",
    "    sys.exit(0)"
   ]
  },
  {
   "cell_type": "code",
   "execution_count": 112,
   "metadata": {},
   "outputs": [],
   "source": [
    "characters = list(text)\n",
    "uniq_chars = set(characters)"
   ]
  },
  {
   "cell_type": "code",
   "execution_count": 113,
   "metadata": {},
   "outputs": [
    {
     "data": {
      "text/plain": [
       "{'\\n', 'F', 'a', 'e', 'm', 'r', 's'}"
      ]
     },
     "execution_count": 113,
     "metadata": {},
     "output_type": "execute_result"
    }
   ],
   "source": [
    "uniq_chars"
   ]
  },
  {
   "cell_type": "code",
   "execution_count": 114,
   "metadata": {},
   "outputs": [
    {
     "data": {
      "text/plain": [
       "Counter({'F': 1, 'a': 1, 'r': 2, 'm': 1, 'e': 1, 's': 1, '\\n': 1})"
      ]
     },
     "execution_count": 114,
     "metadata": {},
     "output_type": "execute_result"
    }
   ],
   "source": [
    "freq = collections.Counter(characters)\n",
    "freq"
   ]
  },
  {
   "cell_type": "code",
   "execution_count": 115,
   "metadata": {},
   "outputs": [],
   "source": [
    "class HuffNode:\n",
    "    def __init__(self, character, weight, leftNode=None, rightNode=None):\n",
    "        self.character = character\n",
    "        self.weight = weight\n",
    "        self.leftNode = leftNode\n",
    "        self.rightNode = rightNode\n",
    "        \n",
    "        # We keep all the huffman codes of the children in self.codes\n",
    "        if leftNode is None:\n",
    "            # leaf node\n",
    "            self.codes = [(character, '')]\n",
    "        else:\n",
    "            # prepend 0 to all codes in the left subtree and keep in codes\n",
    "            self.codes = [(x[0], '0'+x[1]) for x in leftNode.codes]\n",
    "            # prepend 1 to all codes in the right subtree and also keep in codes\n",
    "            self.codes += [(x[0], '1'+x[1]) for x in rightNode.codes]\n",
    "    \n",
    "    def __lt__(self, other):\n",
    "        return True\n",
    "    "
   ]
  },
  {
   "cell_type": "code",
   "execution_count": 116,
   "metadata": {},
   "outputs": [],
   "source": [
    "# Initialize a priority queue\n",
    "q = PriorityQueue()\n",
    "\n",
    "# Push each character & its frequency to the queue as HuffNodes\n",
    "for c,f in freq.items():\n",
    "    # print(c, f)\n",
    "    node = HuffNode(c, f)\n",
    "    q.put((f, node))\n",
    "    \n",
    "    \n",
    "# Huffman Code generation\n",
    "# Combine lowest frequency nodes iteratively\n",
    "rootNode = None\n",
    "while(q.empty() is False):\n",
    "    # if there is only one element in the queue stop\n",
    "    if q.qsize() < 2:\n",
    "        rootNode = q.get()[1]\n",
    "        break\n",
    "        \n",
    "    # combine two lowest frequency nodes to one node\n",
    "    node1 = q.get()[1]\n",
    "    node2 = q.get()[1]\n",
    "    node = HuffNode(character='', weight=node1.weight+node2.weight, leftNode=node1, rightNode=node2)\n",
    "    # print(node.weight)    \n",
    "    # insert back to the queue until the root node is reached\n",
    "    q.put((node.weight, node))\n"
   ]
  },
  {
   "cell_type": "code",
   "execution_count": 117,
   "metadata": {},
   "outputs": [
    {
     "data": {
      "text/plain": [
       "[('\\n', '000'),\n",
       " ('e', '001'),\n",
       " ('r', '01'),\n",
       " ('a', '100'),\n",
       " ('s', '101'),\n",
       " ('m', '110'),\n",
       " ('F', '111')]"
      ]
     },
     "execution_count": 117,
     "metadata": {},
     "output_type": "execute_result"
    }
   ],
   "source": [
    "rootNode.codes"
   ]
  },
  {
   "cell_type": "code",
   "execution_count": 118,
   "metadata": {},
   "outputs": [],
   "source": [
    "# Convert codes into a dictionary/map\n",
    "code_map = dict(rootNode.codes)\n"
   ]
  },
  {
   "cell_type": "code",
   "execution_count": 119,
   "metadata": {},
   "outputs": [
    {
     "data": {
      "text/plain": [
       "{'\\n': '000',\n",
       " 'e': '001',\n",
       " 'r': '01',\n",
       " 'a': '100',\n",
       " 's': '101',\n",
       " 'm': '110',\n",
       " 'F': '111'}"
      ]
     },
     "execution_count": 119,
     "metadata": {},
     "output_type": "execute_result"
    }
   ],
   "source": [
    "code_map\n",
    "\n"
   ]
  },
  {
   "cell_type": "code",
   "execution_count": 120,
   "metadata": {},
   "outputs": [
    {
     "data": {
      "text/plain": [
       "'000'"
      ]
     },
     "execution_count": 120,
     "metadata": {},
     "output_type": "execute_result"
    }
   ],
   "source": [
    "code_map.get('\\n')\n"
   ]
  },
  {
   "cell_type": "code",
   "execution_count": 121,
   "metadata": {},
   "outputs": [],
   "source": [
    "# Generate the compressed text\n",
    "compressed_list = [code_map.get(c) for c in characters]\n",
    "\n",
    "# A function to convert binary bits to bytes\n",
    "# input: '1011' output: \\x0b (which is 00001011 in binary: a single byte/8 bits)\n",
    "# Basically the function splits the sequence of bits into chunks of 8-bits\n",
    "# Refer: https://stackoverflow.com/questions/51425638/how-to-write-huffman-coding-to-a-file-using-python\n",
    "def _to_bytes(data):\n",
    "    b = bytearray()\n",
    "    for i in range(0, len(data), 8):\n",
    "        b.append(int(data[i:i+8], 2))\n",
    "    return bytes(b)"
   ]
  },
  {
   "cell_type": "code",
   "execution_count": 123,
   "metadata": {},
   "outputs": [
    {
     "name": "stdout",
     "output_type": "stream",
     "text": [
      "1111000111000101101000\n"
     ]
    }
   ],
   "source": [
    "compressed_text = ''.join(compressed_list)\n",
    "# compressed_text = '101'\n",
    "print(compressed_text)\n",
    "# Ideally number of bits should be a multiple of 8\n",
    "# otherwise keep track of how many off bits to recover back while decoding\n",
    "offset = len(compressed_text) % 8\n"
   ]
  },
  {
   "cell_type": "code",
   "execution_count": 124,
   "metadata": {},
   "outputs": [
    {
     "data": {
      "text/plain": [
       "6"
      ]
     },
     "execution_count": 124,
     "metadata": {},
     "output_type": "execute_result"
    }
   ],
   "source": [
    "offset"
   ]
  },
  {
   "cell_type": "code",
   "execution_count": 65,
   "metadata": {},
   "outputs": [],
   "source": [
    "# We have to save the characters & their corresponding huffman codes also\n",
    "# This is required for decoding\n",
    "code_block = ''\n",
    "for k in code_map.keys():\n",
    "    code_block += k + ':' + code_map.get(k)\n",
    "\n",
    "# Convert the code block into bytes for saving in a binary file    \n",
    "code_block_bytes = bytes(code_block, encoding='utf-8')\n",
    "code_block_offset = len(code_block_bytes)\n"
   ]
  },
  {
   "cell_type": "code",
   "execution_count": 125,
   "metadata": {},
   "outputs": [],
   "source": [
    "code_block = ''\n",
    "for k in code_map.keys():\n",
    "    code_block += k\n",
    "\n",
    "code_block += ':'    \n",
    "    \n",
    "for k in code_map.keys():\n",
    "    code_block += code_map.get(k) + ','\n",
    "    \n",
    "# Convert the code block into bytes for saving in a binary file    \n",
    "code_block_bytes = bytes(code_block, encoding='utf-8')\n",
    "code_block_offset = len(code_block_bytes)\n"
   ]
  },
  {
   "cell_type": "code",
   "execution_count": 154,
   "metadata": {},
   "outputs": [
    {
     "data": {
      "text/plain": [
       "'\\nerasmF:000,001,01,100,101,110,111,'"
      ]
     },
     "execution_count": 154,
     "metadata": {},
     "output_type": "execute_result"
    }
   ],
   "source": [
    "code_block"
   ]
  },
  {
   "cell_type": "code",
   "execution_count": 155,
   "metadata": {},
   "outputs": [],
   "source": [
    "# Write the encoded bytes\n",
    "with open('chicken.bin', 'wb') as fbout:\n",
    "    # First write the code_block_offset to determine how to bytes to be read\n",
    "    # for retrieving the code block safely\n",
    "    b = format(code_block_offset, '016b') # two bytes = 16 bits\n",
    "    fbout.write(_to_bytes(b))\n",
    "    # Now write the code block as its ascii (utf-8 encoding): a couple of bytes\n",
    "    fbout.write(code_block_bytes)\n",
    "    \n",
    "    # then we write the number of off bits; this is the number of bits in the last byte\n",
    "    fbout.write(bytes([offset]))\n",
    "    # then convert the bit sequence to a byte sequence\n",
    "    compressed_bytes = _to_bytes(compressed_text)\n",
    "    fbout.write(compressed_bytes)\n"
   ]
  },
  {
   "cell_type": "code",
   "execution_count": 156,
   "metadata": {},
   "outputs": [
    {
     "data": {
      "text/plain": [
       "6"
      ]
     },
     "execution_count": 156,
     "metadata": {},
     "output_type": "execute_result"
    }
   ],
   "source": [
    "offset"
   ]
  },
  {
   "cell_type": "code",
   "execution_count": 157,
   "metadata": {},
   "outputs": [],
   "source": [
    "# Decoding: Read the binary file\n",
    "with open('chicken.bin', 'rb') as fbin:\n",
    "    encoded_bytes = fbin.read()\n"
   ]
  },
  {
   "cell_type": "code",
   "execution_count": 191,
   "metadata": {},
   "outputs": [
    {
     "name": "stdout",
     "output_type": "stream",
     "text": [
      "\n",
      "erasmF:000,001,01,100,101,110,111,\n"
     ]
    }
   ],
   "source": [
    "# Decoding: first two bytes gives the code_block_offset\n",
    "a1 = encoded_bytes[0]\n",
    "a2 = encoded_bytes[1]\n",
    "code_block_offset = a1 * 256 + a2\n",
    "# The code block is stores from index 2 to code_block_offset+2\n",
    "code_block = encoded_bytes[2: code_block_offset+2].decode('utf-8')\n",
    "print(code_block)\n"
   ]
  },
  {
   "cell_type": "code",
   "execution_count": 193,
   "metadata": {},
   "outputs": [
    {
     "data": {
      "text/plain": [
       "65536"
      ]
     },
     "execution_count": 193,
     "metadata": {},
     "output_type": "execute_result"
    }
   ],
   "source": [
    "2**16"
   ]
  },
  {
   "cell_type": "code",
   "execution_count": 182,
   "metadata": {},
   "outputs": [],
   "source": [
    "a = format(5403, '016b')\n",
    "b = a[:8]\n",
    "c = a[8:]"
   ]
  },
  {
   "cell_type": "code",
   "execution_count": 183,
   "metadata": {},
   "outputs": [
    {
     "data": {
      "text/plain": [
       "21"
      ]
     },
     "execution_count": 183,
     "metadata": {},
     "output_type": "execute_result"
    }
   ],
   "source": [
    "int(b, 2)"
   ]
  },
  {
   "cell_type": "code",
   "execution_count": 185,
   "metadata": {},
   "outputs": [
    {
     "data": {
      "text/plain": [
       "5403"
      ]
     },
     "execution_count": 185,
     "metadata": {},
     "output_type": "execute_result"
    }
   ],
   "source": [
    "int(b,2)*256 + int(c, 2)"
   ]
  },
  {
   "cell_type": "code",
   "execution_count": 146,
   "metadata": {},
   "outputs": [
    {
     "ename": "ValueError",
     "evalue": "bytes must be in range(0, 256)",
     "output_type": "error",
     "traceback": [
      "\u001b[0;31m---------------------------------------------------------------------------\u001b[0m",
      "\u001b[0;31mValueError\u001b[0m                                Traceback (most recent call last)",
      "\u001b[0;32m<ipython-input-146-b488e0fbc5d9>\u001b[0m in \u001b[0;36m<module>\u001b[0;34m\u001b[0m\n\u001b[0;32m----> 1\u001b[0;31m \u001b[0mbytes\u001b[0m\u001b[0;34m(\u001b[0m\u001b[0;34m[\u001b[0m\u001b[0;36m256\u001b[0m\u001b[0;34m]\u001b[0m\u001b[0;34m)\u001b[0m\u001b[0;34m\u001b[0m\u001b[0;34m\u001b[0m\u001b[0m\n\u001b[0m",
      "\u001b[0;31mValueError\u001b[0m: bytes must be in range(0, 256)"
     ]
    }
   ],
   "source": [
    "bytes([256])"
   ]
  },
  {
   "cell_type": "code",
   "execution_count": 152,
   "metadata": {},
   "outputs": [
    {
     "data": {
      "text/plain": [
       "b'\\x01\\x00'"
      ]
     },
     "execution_count": 152,
     "metadata": {},
     "output_type": "execute_result"
    }
   ],
   "source": [
    "b = format(256, '016b')\n",
    "_to_bytes(b)"
   ]
  },
  {
   "cell_type": "code",
   "execution_count": 153,
   "metadata": {},
   "outputs": [
    {
     "data": {
      "text/plain": [
       "'0000000100000000'"
      ]
     },
     "execution_count": 153,
     "metadata": {},
     "output_type": "execute_result"
    }
   ],
   "source": [
    "b"
   ]
  },
  {
   "cell_type": "code",
   "execution_count": 133,
   "metadata": {},
   "outputs": [
    {
     "data": {
      "text/plain": [
       "['\\nerasmF', '000,001,01,100,101,110,111,']"
      ]
     },
     "execution_count": 133,
     "metadata": {},
     "output_type": "execute_result"
    }
   ],
   "source": [
    "code_block.split(':')"
   ]
  },
  {
   "cell_type": "code",
   "execution_count": 139,
   "metadata": {},
   "outputs": [],
   "source": [
    "## Get back the code_map from the code_block\n",
    "code_map = {}\n",
    "keys = code_block.split(':')[0]\n",
    "codes = code_block.split(':')[1]\n",
    "\n",
    "i = 0\n",
    "for code in codes.split(','):\n",
    "    if len(code) > 0:\n",
    "        code_map[code] = keys[i]\n",
    "        i += 1"
   ]
  },
  {
   "cell_type": "code",
   "execution_count": 140,
   "metadata": {},
   "outputs": [
    {
     "data": {
      "text/plain": [
       "{'000': '\\n',\n",
       " '001': 'e',\n",
       " '01': 'r',\n",
       " '100': 'a',\n",
       " '101': 's',\n",
       " '110': 'm',\n",
       " '111': 'F'}"
      ]
     },
     "execution_count": 140,
     "metadata": {},
     "output_type": "execute_result"
    }
   ],
   "source": [
    "code_map"
   ]
  },
  {
   "cell_type": "code",
   "execution_count": 138,
   "metadata": {},
   "outputs": [],
   "source": [
    "## Get back the code_map from the code_block (Actually reverse code_map)\n",
    "code_map = {}\n",
    "for code in code_block.split('\\n'):\n",
    "    if (len(code)>1):\n",
    "        character = code.split(':')[0]\n",
    "        huffcode = code.split(':')[1]\n",
    "        code_map[huffcode] = character"
   ]
  },
  {
   "cell_type": "code",
   "execution_count": null,
   "metadata": {},
   "outputs": [],
   "source": []
  },
  {
   "cell_type": "code",
   "execution_count": 141,
   "metadata": {},
   "outputs": [
    {
     "name": "stdout",
     "output_type": "stream",
     "text": [
      "1111000111000101101000\n"
     ]
    }
   ],
   "source": [
    "# Decoding: Remember the next byte is the offset value of the last byte\n",
    "# We split the encoded_bytes to get just the code sequence alone\n",
    "code_bytes = encoded_bytes[code_block_offset+1:]\n",
    "offset = code_bytes[0]\n",
    "\n",
    "encoded_text = ''\n",
    "# Read from the next byte till the second last byte\n",
    "for ebyte in code_bytes[1:len(code_bytes)-1]:\n",
    "    b = format(ebyte, '08b') # in 8-bit format\n",
    "    encoded_text += b\n",
    "    \n",
    "# The last byte may not have used full 8 bits; remove un-necessary zeros with the offset value\n",
    "last_byte = code_bytes[len(code_bytes)-1]\n",
    "formatter = '0' + str(offset) + 'b'\n",
    "encoded_text += format(last_byte, formatter)\n",
    "\n",
    "print(encoded_text)\n"
   ]
  },
  {
   "cell_type": "code",
   "execution_count": 142,
   "metadata": {},
   "outputs": [
    {
     "data": {
      "text/plain": [
       "6"
      ]
     },
     "execution_count": 142,
     "metadata": {},
     "output_type": "execute_result"
    }
   ],
   "source": [
    "len(encoded_text) % 8"
   ]
  },
  {
   "cell_type": "code",
   "execution_count": 143,
   "metadata": {},
   "outputs": [
    {
     "name": "stdout",
     "output_type": "stream",
     "text": [
      "Farmers\n",
      "\n"
     ]
    }
   ],
   "source": [
    "# Decoding: Now decode the retireved binary sequence with the reverse code_map\n",
    "# This is a greedy algorithm\n",
    "def decoding(content, _lookup):\n",
    "    while content:\n",
    "        options = [i for i in _lookup if content.startswith(i) and (any(content[len(i):].startswith(b) for b in _lookup) or not content[len(i):])]\n",
    "        if not options:\n",
    "            raise Exception(\"Decoding error\")\n",
    "        yield _lookup[options[0]]\n",
    "        content = content[len(options[0]):]\n",
    "\n",
    "print(''.join(decoding(encoded_text, code_map)))"
   ]
  },
  {
   "cell_type": "code",
   "execution_count": 331,
   "metadata": {},
   "outputs": [
    {
     "data": {
      "text/plain": [
       "97"
      ]
     },
     "execution_count": 331,
     "metadata": {},
     "output_type": "execute_result"
    }
   ],
   "source": [
    "b = bytearray('aBc', encoding='utf-8')\n",
    "b[0]\n"
   ]
  },
  {
   "cell_type": "code",
   "execution_count": 362,
   "metadata": {},
   "outputs": [
    {
     "data": {
      "text/plain": [
       "b'\\x80\\x01'"
      ]
     },
     "execution_count": 362,
     "metadata": {},
     "output_type": "execute_result"
    }
   ],
   "source": [
    "bits = '0000000110'\n",
    "int(bits[::-1], 2).to_bytes(2, 'little')\n"
   ]
  },
  {
   "cell_type": "code",
   "execution_count": 367,
   "metadata": {},
   "outputs": [
    {
     "data": {
      "text/plain": [
       "'0xfd'"
      ]
     },
     "execution_count": 367,
     "metadata": {},
     "output_type": "execute_result"
    }
   ],
   "source": [
    "b = '10111111'\n",
    "hex(int(b[::-1], 2))\n",
    "\n"
   ]
  },
  {
   "cell_type": "code",
   "execution_count": 369,
   "metadata": {},
   "outputs": [],
   "source": []
  },
  {
   "cell_type": "code",
   "execution_count": 406,
   "metadata": {},
   "outputs": [
    {
     "name": "stdout",
     "output_type": "stream",
     "text": [
      "8\n"
     ]
    },
    {
     "data": {
      "text/plain": [
       "b'\\xc2'"
      ]
     },
     "execution_count": 406,
     "metadata": {},
     "output_type": "execute_result"
    }
   ],
   "source": [
    "bits = \"11000010\"\n",
    "print(len(bits))\n",
    "_to_bytes(bits)"
   ]
  },
  {
   "cell_type": "code",
   "execution_count": 423,
   "metadata": {},
   "outputs": [],
   "source": [
    "n = bytes([5])"
   ]
  },
  {
   "cell_type": "code",
   "execution_count": 427,
   "metadata": {},
   "outputs": [
    {
     "data": {
      "text/plain": [
       "5"
      ]
     },
     "execution_count": 427,
     "metadata": {},
     "output_type": "execute_result"
    }
   ],
   "source": [
    "n[0]"
   ]
  },
  {
   "cell_type": "code",
   "execution_count": 414,
   "metadata": {},
   "outputs": [],
   "source": [
    "n = bytes('5', 'utf-8')"
   ]
  },
  {
   "cell_type": "code",
   "execution_count": 415,
   "metadata": {},
   "outputs": [
    {
     "data": {
      "text/plain": [
       "'5'"
      ]
     },
     "execution_count": 415,
     "metadata": {},
     "output_type": "execute_result"
    }
   ],
   "source": [
    "n.decode('utf-8')"
   ]
  },
  {
   "cell_type": "code",
   "execution_count": 418,
   "metadata": {},
   "outputs": [
    {
     "data": {
      "text/plain": [
       "49"
      ]
     },
     "execution_count": 418,
     "metadata": {},
     "output_type": "execute_result"
    }
   ],
   "source": [
    "ord('1')"
   ]
  },
  {
   "cell_type": "code",
   "execution_count": 270,
   "metadata": {},
   "outputs": [
    {
     "data": {
      "text/plain": [
       "['1', '1', '1']"
      ]
     },
     "execution_count": 270,
     "metadata": {},
     "output_type": "execute_result"
    }
   ],
   "source": [
    "blist = list('111')\n",
    "blist"
   ]
  },
  {
   "cell_type": "code",
   "execution_count": 272,
   "metadata": {},
   "outputs": [],
   "source": [
    "import functools\n",
    "# e.g. 111 -> 7 (given a binary string, convert it into decimal)\n",
    "def decimal_from_binary_string(bstring):\n",
    "    blist = list(bstring)\n",
    "    return functools.reduce(lambda a,b : int(a)<<1 | int(b), blist)\n",
    "    "
   ]
  },
  {
   "cell_type": "code",
   "execution_count": 278,
   "metadata": {},
   "outputs": [
    {
     "data": {
      "text/plain": [
       "0"
      ]
     },
     "execution_count": 278,
     "metadata": {},
     "output_type": "execute_result"
    }
   ],
   "source": [
    "decimal_from_binary_string('00')"
   ]
  },
  {
   "cell_type": "code",
   "execution_count": 405,
   "metadata": {},
   "outputs": [
    {
     "data": {
      "text/plain": [
       "7"
      ]
     },
     "execution_count": 405,
     "metadata": {},
     "output_type": "execute_result"
    }
   ],
   "source": [
    "int('111', 2)"
   ]
  },
  {
   "cell_type": "code",
   "execution_count": 528,
   "metadata": {},
   "outputs": [],
   "source": [
    "from tkinter import *\n",
    "from tkinter.ttk import *\n",
    "  \n",
    "# importing askopenfile function \n",
    "# from class filedialog \n",
    "from tkinter.filedialog import askopenfile \n",
    "\n",
    "\n",
    "root = Tk()\n",
    "# Code to add widgets will go here...\n",
    "root.geometry('800x600')\n",
    "\n",
    "# frame inside root window \n",
    "frame = Frame(root)   \n",
    "# geometry method \n",
    "frame.pack()  \n",
    "# button inside frame which is  \n",
    "# inside root \n",
    "button = Button(frame, text ='Choose File')   \n",
    "button.pack()       \n",
    "\n",
    "root.mainloop()\n",
    "\n",
    "\n",
    "\n"
   ]
  },
  {
   "cell_type": "code",
   "execution_count": 24,
   "metadata": {},
   "outputs": [
    {
     "name": "stdout",
     "output_type": "stream",
     "text": [
      "/Users/bnjasim/Desktop/Upwork/huffman/testfile.txt\n"
     ]
    }
   ],
   "source": [
    "from tkinter import *\n",
    "from tkinter.ttk import *\n",
    "  \n",
    "# importing askopenfile function \n",
    "# from class filedialog \n",
    "from tkinter.filedialog import askopenfile \n",
    "\n",
    "root = Tk() \n",
    "root.geometry('600x400') \n",
    "root.title('Hufman Coding')\n",
    "  \n",
    "# This function will be used to open \n",
    "# file in read mode and only Python files \n",
    "# will be opened \n",
    "def open_file_encode(): \n",
    "    file = askopenfile(mode ='r', filetypes =[('Text', '*.txt')])\n",
    "    if file:\n",
    "        print(file.name)\n",
    "        \n",
    "def open_file_decode(): \n",
    "    file = askopenfile(mode ='r', filetypes =[('Binary', '*.bin')])\n",
    "    if file:\n",
    "        print(file.name)\n",
    "\n",
    "button_frame = Frame(root, height=100, width=600, borderwidth=1)\n",
    "button_frame.pack()\n",
    "btn1 = Button(button_frame, text ='Encode File', command = open_file_encode) \n",
    "btn2 = Button(button_frame, text ='Decode File', command = open_file_decode)\n",
    "\n",
    "#btn1.pack(side = TOP, pady = 10) \n",
    "btn1.grid(row=0, column=0, padx=50, pady=10)\n",
    "btn2.grid(row=0, column=1, padx=50, pady=10)\n",
    "\n",
    "text_frame = Frame(root, height=200, width=600, borderwidth = 2)\n",
    "text_frame.pack()\n",
    "text_widget = Text(text_frame, height = 200, width = 600)\n",
    "text_widget.pack()\n",
    "text_widget.insert(END, 'A bunch of text can be inserted here')\n",
    "  \n",
    "mainloop() \n"
   ]
  },
  {
   "cell_type": "code",
   "execution_count": 15,
   "metadata": {},
   "outputs": [
    {
     "ename": "NameError",
     "evalue": "name 'file' is not defined",
     "output_type": "error",
     "traceback": [
      "\u001b[0;31m---------------------------------------------------------------------------\u001b[0m",
      "\u001b[0;31mNameError\u001b[0m                                 Traceback (most recent call last)",
      "\u001b[0;32m<ipython-input-15-20b137755dfb>\u001b[0m in \u001b[0;36m<module>\u001b[0;34m\u001b[0m\n\u001b[0;32m----> 1\u001b[0;31m \u001b[0mfile\u001b[0m\u001b[0;34m.\u001b[0m\u001b[0mname\u001b[0m\u001b[0;34m\u001b[0m\u001b[0;34m\u001b[0m\u001b[0m\n\u001b[0m",
      "\u001b[0;31mNameError\u001b[0m: name 'file' is not defined"
     ]
    }
   ],
   "source": [
    "file.name"
   ]
  },
  {
   "cell_type": "code",
   "execution_count": 29,
   "metadata": {},
   "outputs": [],
   "source": [
    "with open('huffmanGUI.py', 'r') as f:\n",
    "    text = f.read()\n",
    "    newtext = text.replace('\\t', '    ')"
   ]
  },
  {
   "cell_type": "code",
   "execution_count": 30,
   "metadata": {},
   "outputs": [],
   "source": [
    "with open('huffmanGUI.py', 'w') as f:\n",
    "    f.write(newtext)"
   ]
  },
  {
   "cell_type": "code",
   "execution_count": null,
   "metadata": {},
   "outputs": [],
   "source": []
  }
 ],
 "metadata": {
  "kernelspec": {
   "display_name": "Python [conda env:root] *",
   "language": "python",
   "name": "conda-root-py"
  },
  "language_info": {
   "codemirror_mode": {
    "name": "ipython",
    "version": 3
   },
   "file_extension": ".py",
   "mimetype": "text/x-python",
   "name": "python",
   "nbconvert_exporter": "python",
   "pygments_lexer": "ipython3",
   "version": "3.8.3"
  }
 },
 "nbformat": 4,
 "nbformat_minor": 4
}
