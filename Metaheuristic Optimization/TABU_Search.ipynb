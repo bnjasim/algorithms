{
 "cells": [
  {
   "cell_type": "code",
   "execution_count": 1,
   "metadata": {},
   "outputs": [],
   "source": [
    "import random\n",
    "import matplotlib.pyplot as plt"
   ]
  },
  {
   "cell_type": "code",
   "execution_count": 4,
   "metadata": {},
   "outputs": [],
   "source": [
    "cities = ['A', 'B', 'C', 'E', 'M', 'S']\n",
    "\n",
    "# Represent the Graph as a dictionary of dictionaries\n",
    "A = {'A':0, 'B':10, 'C':15, 'E':14, 'M':11, 'S':10}\n",
    "B = {'A':10, 'B':0, 'C':8, 'E':13 ,'M':15 ,'S':9}\n",
    "C = {'A':15, 'B':8, 'C':0, 'E':11,'M':16,'S':10}\n",
    "E = {'A':14, 'B':13, 'C':11, 'E':0,'M':9,'S':6}\n",
    "M = {'A':11, 'B':15, 'C':16, 'E':9,'M':0,'S':9}\n",
    "S = {'A':10, 'B':9, 'C':10, 'E':6,'M':9,'S':0}\n",
    "Graph = {'A':A, 'B':B, 'C':C, 'E':E, 'M':M, 'S':S}\n",
    "\n",
    "# We have to swap two cities to get a neighbour\n",
    "# total 15 possible swaps for 6 cities\n",
    "all_swaps = []\n",
    "for i in range(len(cities)):\n",
    "    for j in range(i+1, len(cities)):\n",
    "        all_swaps.append((cities[i], cities[j]))"
   ]
  },
  {
   "cell_type": "code",
   "execution_count": 7,
   "metadata": {},
   "outputs": [],
   "source": [
    "# Compute the total distance travelled to complete a cycle\n",
    "# start from a city and visit every city and return to the same city\n",
    "# Input: A path e.g. C-A-M-S-B-E as a list\n",
    "def total_distance(path):\n",
    "    distance = 0\n",
    "    for i in range(1, len(path)):\n",
    "        # add the distance between two adjacent cities\n",
    "        distance += Graph.get(path[i-1]).get(path[i])\n",
    "    \n",
    "    # finally add the distance to the first city from the last city\n",
    "    distance += Graph.get(path[i]).get(path[0])\n",
    "    return distance\n",
    "\n",
    "# swap neighbourhood structure\n",
    "# Given a path two randomly chosen cities are swapped\n",
    "# but if two cities to be swapped are specified then swap those\n",
    "def swap_neighbour(path, swap=None):\n",
    "    if swap is None:\n",
    "        swap = random.sample(path, 2)\n",
    "    # find the position of the two cities in the path\n",
    "    pos_city1 = path.index(swap[0])\n",
    "    pos_city2 = path.index(swap[1])\n",
    "    \n",
    "    # Now swap the two cities in the path\n",
    "    new_path = list(path)\n",
    "    new_path[pos_city1] = swap[1]\n",
    "    new_path[pos_city2] = swap[0]\n",
    "    \n",
    "    return new_path"
   ]
  },
  {
   "cell_type": "code",
   "execution_count": 28,
   "metadata": {},
   "outputs": [],
   "source": [
    "# We need to keep all neighbours of a path as candidates\n",
    "# compute their fit and find the best fitting neighbour\n",
    "class Neighbour:\n",
    "    def __init__(self, path, swap):\n",
    "        self.swap = swap\n",
    "        self.path = swap_neighbour(path, swap)\n",
    "        self.fpath = total_distance(self.path)\n",
    "        \n"
   ]
  },
  {
   "cell_type": "code",
   "execution_count": 44,
   "metadata": {},
   "outputs": [
    {
     "name": "stdout",
     "output_type": "stream",
     "text": [
      "Iteration: 0, Best solution: E-A-C-S-M-B, Best Fit: 76\n"
     ]
    }
   ],
   "source": [
    "# Initialization \n",
    "MaxIter = 20\n",
    "# TABU list has dis-allowed swaps; initially nothing is disallowed\n",
    "TABU_list = [('A','A'), ('B', 'B')] # A list of two elements; initial values not relevant\n",
    "\n",
    "# Initial solution construction phase\n",
    "# Generate an initial solution at random\n",
    "# Note that the solution is represented as a sequence of cities (a path not a cycle)\n",
    "sol = random.sample(cities, 6)\n",
    "fsol = total_distance(sol)\n",
    "solbest = sol\n",
    "fsolbest = fsol\n",
    "\n",
    "# keep a list of fsol and fsolbest for plotting\n",
    "y_fsol = [fsol]\n",
    "y_fsolbest = [fsolbest]\n",
    "print(\"Iteration: 0, Best solution: \" + '-'.join(solbest) + \", Best Fit: \" + str(fsolbest))\n",
    "\n"
   ]
  },
  {
   "cell_type": "code",
   "execution_count": 45,
   "metadata": {},
   "outputs": [
    {
     "name": "stdout",
     "output_type": "stream",
     "text": [
      "Iteration: 1 Best solution: E-B-C-S-M-A Best Fit: 65\n",
      "Iteration: 2 Best solution: S-B-C-E-M-A Best Fit: 58\n",
      "Iteration: 3 Best solution: A-B-C-E-M-S Best Fit: 57\n",
      "Iteration: 4 Best solution: A-B-C-E-S-M Best Fit: 55\n",
      "Iteration: 5 Best solution: A-B-C-S-E-M Best Fit: 54\n",
      "Iteration: 6 Best solution: A-B-C-S-E-M Best Fit: 54\n",
      "Iteration: 7 Best solution: A-B-C-S-E-M Best Fit: 54\n",
      "Iteration: 8 Best solution: A-B-C-S-E-M Best Fit: 54\n",
      "Iteration: 9 Best solution: A-B-C-S-E-M Best Fit: 54\n",
      "Iteration: 10 Best solution: A-B-C-S-E-M Best Fit: 54\n",
      "Iteration: 11 Best solution: A-B-C-S-E-M Best Fit: 54\n",
      "Iteration: 12 Best solution: A-B-C-S-E-M Best Fit: 54\n",
      "Iteration: 13 Best solution: A-B-C-S-E-M Best Fit: 54\n",
      "Iteration: 14 Best solution: A-B-C-S-E-M Best Fit: 54\n",
      "Iteration: 15 Best solution: A-B-C-S-E-M Best Fit: 54\n",
      "Iteration: 16 Best solution: A-B-C-S-E-M Best Fit: 54\n",
      "Iteration: 17 Best solution: A-B-C-S-E-M Best Fit: 54\n",
      "Iteration: 18 Best solution: A-B-C-S-E-M Best Fit: 54\n",
      "Iteration: 19 Best solution: A-B-C-S-E-M Best Fit: 54\n",
      "Iteration: 20 Best solution: A-B-C-S-E-M Best Fit: 54\n"
     ]
    }
   ],
   "source": [
    "# Improvement phase\n",
    "for iteration in range(MaxIter):\n",
    "    # find all neighbours of sol\n",
    "    all_neighbours = []\n",
    "    for swap in all_swaps:\n",
    "        all_neighbours.append(Neighbour(sol, swap))\n",
    "\n",
    "    # sort the neighbours in order of fit/total distance\n",
    "    sorted_neighbours = sorted(all_neighbours, key=lambda obj: obj.fpath)\n",
    "    \n",
    "    # if the top element is in tabu list don't take it\n",
    "    # but we need to check for Aspiration; that means if the tabu neighbour gives better solution than the\n",
    "    # fsolbest then we should take it\n",
    "    for neigh in sorted_neighbours:\n",
    "        # check if it is in tabu list\n",
    "        if neigh.swap in TABU_list:\n",
    "            # check for Aspiration\n",
    "            if neigh.fpath < fsolbest:\n",
    "                sol = neigh.path\n",
    "                fsol = neigh.fpath\n",
    "                solbest = neigh.path\n",
    "                fsolbest = neigh.fpath\n",
    "                # modify tabu list\n",
    "                TABU_list[-1] = TABU_list[0]\n",
    "                TABU_list[0] = neigh.swap\n",
    "                break\n",
    "            # else go to the next element in the candidate list of neighbours\n",
    "        else:\n",
    "            if neigh.fpath < fsolbest:\n",
    "                # update the best fit\n",
    "                solbest = neigh.path\n",
    "                fsolbest = neigh.fpath\n",
    "            \n",
    "            # we should treat the top neighbour as the sol\n",
    "            sol = neigh.path\n",
    "            fsol = neigh.fpath\n",
    "                \n",
    "            # modify tabu list\n",
    "            TABU_list[-1] = TABU_list[0]\n",
    "            TABU_list[0] = neigh.swap\n",
    "            break\n",
    "    \n",
    "    # Add to the list for plotting\n",
    "    y_fsol.append(fsol)\n",
    "    y_fsolbest.append(fsolbest)\n",
    "    \n",
    "    print(\"Iteration: \" + str(iteration+1) + \" Best solution: \" + '-'.join(solbest) + \" Best Fit: \"+str(fsolbest))    \n"
   ]
  },
  {
   "cell_type": "code",
   "execution_count": 46,
   "metadata": {},
   "outputs": [
    {
     "name": "stdout",
     "output_type": "stream",
     "text": [
      "Best solution: A-B-C-S-E-M\n",
      "Shortest Distance: 54\n"
     ]
    }
   ],
   "source": [
    "print(\"Best solution: \" + '-'.join(solbest))\n",
    "print(\"Shortest Distance: \" + str(fsolbest))"
   ]
  },
  {
   "cell_type": "code",
   "execution_count": 47,
   "metadata": {},
   "outputs": [
    {
     "data": {
      "image/png": "[encoded data removed]",
      "text/plain": [
       "<Figure size 432x288 with 1 Axes>"
      ]
     },
     "metadata": {
      "needs_background": "light"
     },
     "output_type": "display_data"
    }
   ],
   "source": [
    "# Plotting in matplotlib\n",
    "x = range(1, MaxIter+2)\n",
    "plt.plot(x, y_fsol, 'b', label='fSol')\n",
    "plt.plot(x, y_fsolbest, ':r', label='fSolBest')\n",
    "plt.xlabel('Iteration')\n",
    "plt.ylabel('Total Distance')\n",
    "plt.title('TABU Search')\n",
    "plt.legend()\n",
    "plt.show()"
   ]
  },
  {
   "cell_type": "code",
   "execution_count": null,
   "metadata": {},
   "outputs": [],
   "source": []
  }
 ],
 "metadata": {
  "kernelspec": {
   "display_name": "Python [conda env:root] *",
   "language": "python",
   "name": "conda-root-py"
  },
  "language_info": {
   "codemirror_mode": {
    "name": "ipython",
    "version": 3
   },
   "file_extension": ".py",
   "mimetype": "text/x-python",
   "name": "python",
   "nbconvert_exporter": "python",
   "pygments_lexer": "ipython3",
   "version": "3.8.3"
  }
 },
 "nbformat": 4,
 "nbformat_minor": 4
}
