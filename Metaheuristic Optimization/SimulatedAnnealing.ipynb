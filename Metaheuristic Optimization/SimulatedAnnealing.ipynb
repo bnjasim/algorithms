{
 "cells": [
  {
   "cell_type": "code",
   "execution_count": 18,
   "metadata": {},
   "outputs": [],
   "source": [
    "import random\n",
    "import math\n",
    "import matplotlib.pyplot as plt"
   ]
  },
  {
   "cell_type": "code",
   "execution_count": 2,
   "metadata": {},
   "outputs": [],
   "source": [
    "cities = ['A', 'B', 'C', 'E', 'M', 'S']\n",
    "\n",
    "# Represent the Graph as a dictionary of dictionaries\n",
    "A = {'A':0, 'B':10, 'C':15, 'E':14, 'M':11, 'S':10}\n",
    "B = {'A':10, 'B':0, 'C':8, 'E':13 ,'M':15 ,'S':9}\n",
    "C = {'A':15, 'B':8, 'C':0, 'E':11,'M':16,'S':10}\n",
    "E = {'A':14, 'B':13, 'C':11, 'E':0,'M':9,'S':6}\n",
    "M = {'A':11, 'B':15, 'C':16, 'E':9,'M':0,'S':9}\n",
    "S = {'A':10, 'B':9, 'C':10, 'E':6,'M':9,'S':0}\n",
    "Graph = {'A':A, 'B':B, 'C':C, 'E':E, 'M':M, 'S':S}"
   ]
  },
  {
   "cell_type": "code",
   "execution_count": 8,
   "metadata": {},
   "outputs": [],
   "source": [
    "# Compute the total distance travelled to complete a cycle\n",
    "# start from a city and visit every city and return to the same city\n",
    "# Input: A path e.g. C-A-M-S-B-E as a list\n",
    "def total_distance(path):\n",
    "    distance = 0\n",
    "    for i in range(1, len(path)):\n",
    "        # add the distance between two adjacent cities\n",
    "        distance += Graph.get(path[i-1]).get(path[i])\n",
    "    \n",
    "    # finally add the distance to the first city from the last city\n",
    "    distance += Graph.get(path[i]).get(path[0])\n",
    "    return distance\n",
    "\n",
    "# swap neighbourhood structure\n",
    "# Given a path two randomly chosen cities are swapped \n",
    "def swap_neighbour(path):\n",
    "    two_cities = random.sample(path, 2)\n",
    "    # find the position of the two cities in the path\n",
    "    pos_city1 = path.index(two_cities[0])\n",
    "    pos_city2 = path.index(two_cities[1])\n",
    "    \n",
    "    # Now swap the two cities in the path\n",
    "    new_path = list(path)\n",
    "    new_path[pos_city1] = two_cities[1]\n",
    "    new_path[pos_city2] = two_cities[0]\n",
    "    \n",
    "    return new_path"
   ]
  },
  {
   "cell_type": "code",
   "execution_count": 27,
   "metadata": {},
   "outputs": [],
   "source": [
    "# Initialization\n",
    "T0 = 0.95\n",
    "Tf = 0.1\n",
    "MaxIter = 100\n",
    "Delta = (T0 - Tf)/MaxIter\n",
    "T = T0"
   ]
  },
  {
   "cell_type": "code",
   "execution_count": 28,
   "metadata": {},
   "outputs": [
    {
     "name": "stdout",
     "output_type": "stream",
     "text": [
      "Iteration: 0, Best solution: B-S-E-C-A-M, Best Fit: 67\n"
     ]
    }
   ],
   "source": [
    "# Initial solution construction phase\n",
    "# Generate an initial solution at random\n",
    "# Note that the solution is represented as a sequence of cities (a path not a cycle)\n",
    "sol = random.sample(cities, 6)\n",
    "fsol = total_distance(sol)\n",
    "solbest = sol\n",
    "fsolbest = fsol\n",
    "\n",
    "# keep a list of fsol and fsolbest for plotting\n",
    "y_fsol = [fsol]\n",
    "y_fsolbest = [fsolbest]\n",
    "print(\"Iteration: 0, Best solution: \" + '-'.join(solbest) + \", Best Fit: \" + str(fsolbest))"
   ]
  },
  {
   "cell_type": "code",
   "execution_count": 29,
   "metadata": {},
   "outputs": [
    {
     "name": "stdout",
     "output_type": "stream",
     "text": [
      "Iteration: 1 Best solution: B-S-E-M-A-C Best Fit: 58\n",
      "Iteration: 2 Best solution: B-S-E-M-A-C Best Fit: 58\n",
      "Iteration: 3 Best solution: B-S-E-M-A-C Best Fit: 58\n",
      "Iteration: 4 Best solution: B-S-E-M-A-C Best Fit: 58\n",
      "Iteration: 5 Best solution: B-S-E-M-A-C Best Fit: 58\n",
      "Iteration: 6 Best solution: B-S-E-M-A-C Best Fit: 58\n",
      "Iteration: 7 Best solution: B-S-E-M-A-C Best Fit: 58\n",
      "Iteration: 8 Best solution: B-S-E-M-A-C Best Fit: 58\n",
      "Iteration: 9 Best solution: B-S-E-M-A-C Best Fit: 58\n",
      "Iteration: 10 Best solution: B-S-E-M-A-C Best Fit: 58\n",
      "Iteration: 11 Best solution: B-S-E-M-A-C Best Fit: 58\n",
      "Iteration: 12 Best solution: B-S-E-M-A-C Best Fit: 58\n",
      "Iteration: 13 Best solution: B-S-E-M-A-C Best Fit: 58\n",
      "Iteration: 14 Best solution: B-S-E-M-A-C Best Fit: 58\n",
      "Iteration: 15 Best solution: B-S-E-M-A-C Best Fit: 58\n",
      "Iteration: 16 Best solution: B-S-E-M-A-C Best Fit: 58\n",
      "Iteration: 17 Best solution: B-S-E-M-A-C Best Fit: 58\n",
      "Iteration: 18 Best solution: B-S-E-M-A-C Best Fit: 58\n",
      "Iteration: 19 Best solution: B-S-E-M-A-C Best Fit: 58\n",
      "Iteration: 20 Best solution: B-S-E-M-A-C Best Fit: 58\n",
      "Iteration: 21 Best solution: B-S-E-M-A-C Best Fit: 58\n",
      "Iteration: 22 Best solution: B-S-E-M-A-C Best Fit: 58\n",
      "Iteration: 23 Best solution: B-S-E-M-A-C Best Fit: 58\n",
      "Iteration: 24 Best solution: B-S-E-M-A-C Best Fit: 58\n",
      "Iteration: 25 Best solution: B-S-E-M-A-C Best Fit: 58\n",
      "Iteration: 26 Best solution: B-S-E-M-A-C Best Fit: 58\n",
      "Iteration: 27 Best solution: B-S-E-M-A-C Best Fit: 58\n",
      "Iteration: 28 Best solution: B-S-E-M-A-C Best Fit: 58\n",
      "Iteration: 29 Best solution: B-S-E-M-A-C Best Fit: 58\n",
      "Iteration: 30 Best solution: B-S-E-M-A-C Best Fit: 58\n",
      "Iteration: 31 Best solution: B-S-E-M-A-C Best Fit: 58\n",
      "Iteration: 32 Best solution: B-S-E-M-A-C Best Fit: 58\n",
      "Iteration: 33 Best solution: B-S-E-M-A-C Best Fit: 58\n",
      "Iteration: 34 Best solution: B-C-E-M-S-A Best Fit: 57\n",
      "Iteration: 35 Best solution: B-C-E-M-S-A Best Fit: 57\n",
      "Iteration: 36 Best solution: B-C-E-M-S-A Best Fit: 57\n",
      "Iteration: 37 Best solution: B-C-E-M-S-A Best Fit: 57\n",
      "Iteration: 38 Best solution: B-C-E-M-S-A Best Fit: 57\n",
      "Iteration: 39 Best solution: B-C-E-M-S-A Best Fit: 57\n",
      "Iteration: 40 Best solution: B-C-E-M-S-A Best Fit: 57\n",
      "Iteration: 41 Best solution: B-C-E-M-S-A Best Fit: 57\n",
      "Iteration: 42 Best solution: B-C-E-M-S-A Best Fit: 57\n",
      "Iteration: 43 Best solution: B-C-E-M-S-A Best Fit: 57\n",
      "Iteration: 44 Best solution: B-C-E-M-S-A Best Fit: 57\n",
      "Iteration: 45 Best solution: B-C-E-S-M-A Best Fit: 55\n",
      "Iteration: 46 Best solution: B-C-E-S-M-A Best Fit: 55\n",
      "Iteration: 47 Best solution: B-C-E-S-M-A Best Fit: 55\n",
      "Iteration: 48 Best solution: B-C-E-S-M-A Best Fit: 55\n",
      "Iteration: 49 Best solution: B-C-E-S-M-A Best Fit: 55\n",
      "Iteration: 50 Best solution: B-C-E-S-M-A Best Fit: 55\n",
      "Iteration: 51 Best solution: B-C-E-S-M-A Best Fit: 55\n",
      "Iteration: 52 Best solution: B-C-E-S-M-A Best Fit: 55\n",
      "Iteration: 53 Best solution: B-C-E-S-M-A Best Fit: 55\n",
      "Iteration: 54 Best solution: B-C-E-S-M-A Best Fit: 55\n",
      "Iteration: 55 Best solution: B-C-S-E-M-A Best Fit: 54\n",
      "Iteration: 56 Best solution: B-C-S-E-M-A Best Fit: 54\n",
      "Iteration: 57 Best solution: B-C-S-E-M-A Best Fit: 54\n",
      "Iteration: 58 Best solution: B-C-S-E-M-A Best Fit: 54\n",
      "Iteration: 59 Best solution: B-C-S-E-M-A Best Fit: 54\n",
      "Iteration: 60 Best solution: B-C-S-E-M-A Best Fit: 54\n",
      "Iteration: 61 Best solution: B-C-S-E-M-A Best Fit: 54\n",
      "Iteration: 62 Best solution: B-C-S-E-M-A Best Fit: 54\n",
      "Iteration: 63 Best solution: B-C-S-E-M-A Best Fit: 54\n",
      "Iteration: 64 Best solution: B-C-S-E-M-A Best Fit: 54\n",
      "Iteration: 65 Best solution: B-C-S-E-M-A Best Fit: 54\n",
      "Iteration: 66 Best solution: B-C-S-E-M-A Best Fit: 54\n",
      "Iteration: 67 Best solution: B-C-S-E-M-A Best Fit: 54\n",
      "Iteration: 68 Best solution: B-C-S-E-M-A Best Fit: 54\n",
      "Iteration: 69 Best solution: B-C-S-E-M-A Best Fit: 54\n",
      "Iteration: 70 Best solution: B-C-S-E-M-A Best Fit: 54\n",
      "Iteration: 71 Best solution: B-C-S-E-M-A Best Fit: 54\n",
      "Iteration: 72 Best solution: B-C-S-E-M-A Best Fit: 54\n",
      "Iteration: 73 Best solution: B-C-S-E-M-A Best Fit: 54\n",
      "Iteration: 74 Best solution: B-C-S-E-M-A Best Fit: 54\n",
      "Iteration: 75 Best solution: B-C-S-E-M-A Best Fit: 54\n",
      "Iteration: 76 Best solution: B-C-S-E-M-A Best Fit: 54\n",
      "Iteration: 77 Best solution: B-C-S-E-M-A Best Fit: 54\n",
      "Iteration: 78 Best solution: B-C-S-E-M-A Best Fit: 54\n",
      "Iteration: 79 Best solution: B-C-S-E-M-A Best Fit: 54\n",
      "Iteration: 80 Best solution: B-C-S-E-M-A Best Fit: 54\n",
      "Iteration: 81 Best solution: B-C-S-E-M-A Best Fit: 54\n",
      "Iteration: 82 Best solution: B-C-S-E-M-A Best Fit: 54\n",
      "Iteration: 83 Best solution: B-C-S-E-M-A Best Fit: 54\n",
      "Iteration: 84 Best solution: B-C-S-E-M-A Best Fit: 54\n",
      "Iteration: 85 Best solution: B-C-S-E-M-A Best Fit: 54\n",
      "Iteration: 86 Best solution: B-C-S-E-M-A Best Fit: 54\n",
      "Iteration: 87 Best solution: B-C-S-E-M-A Best Fit: 54\n",
      "Iteration: 88 Best solution: B-C-S-E-M-A Best Fit: 54\n",
      "Iteration: 89 Best solution: B-C-S-E-M-A Best Fit: 54\n",
      "Iteration: 90 Best solution: B-C-S-E-M-A Best Fit: 54\n",
      "Iteration: 91 Best solution: B-C-S-E-M-A Best Fit: 54\n",
      "Iteration: 92 Best solution: B-C-S-E-M-A Best Fit: 54\n",
      "Iteration: 93 Best solution: B-C-S-E-M-A Best Fit: 54\n",
      "Iteration: 94 Best solution: B-C-S-E-M-A Best Fit: 54\n",
      "Iteration: 95 Best solution: B-C-S-E-M-A Best Fit: 54\n",
      "Iteration: 96 Best solution: B-C-S-E-M-A Best Fit: 54\n",
      "Iteration: 97 Best solution: B-C-S-E-M-A Best Fit: 54\n",
      "Iteration: 98 Best solution: B-C-S-E-M-A Best Fit: 54\n",
      "Iteration: 99 Best solution: B-C-S-E-M-A Best Fit: 54\n",
      "Iteration: 100 Best solution: B-C-S-E-M-A Best Fit: 54\n"
     ]
    }
   ],
   "source": [
    "# Improvement phase\n",
    "for iteration in range(MaxIter):\n",
    "    # generate a new solution by a swap neighbourhood structure\n",
    "    new_sol = swap_neighbour(sol)\n",
    "    f_new_sol = total_distance(new_sol)\n",
    "    \n",
    "    if f_new_sol < fsol:\n",
    "        sol = new_sol\n",
    "        fsol = f_new_sol\n",
    "    \n",
    "        if f_new_sol < fsolbest:\n",
    "            solbest = new_sol\n",
    "            fsolbest = f_new_sol\n",
    "    else:\n",
    "        c = f_new_sol - fsol\n",
    "        # generate a random number in [0,1]\n",
    "        r = random.random()\n",
    "        \n",
    "        if math.exp(-c/T) > r:\n",
    "            sol = new_sol\n",
    "            fsol = f_new_sol\n",
    "        \n",
    "    # Update T\n",
    "    T -= Delta\n",
    "    \n",
    "    # Add to the list for plotting\n",
    "    y_fsol.append(fsol)\n",
    "    y_fsolbest.append(fsolbest)\n",
    "    \n",
    "    print(\"Iteration: \" + str(iteration+1) + \" Best solution: \" + '-'.join(solbest) + \" Best Fit: \"+str(fsolbest))    \n"
   ]
  },
  {
   "cell_type": "code",
   "execution_count": 30,
   "metadata": {},
   "outputs": [
    {
     "name": "stdout",
     "output_type": "stream",
     "text": [
      "Best solution: B-C-S-E-M-A\n",
      "Shortest Distance: 54\n"
     ]
    }
   ],
   "source": [
    "print(\"Best solution: \" + '-'.join(solbest))\n",
    "print(\"Shortest Distance: \" + str(fsolbest))"
   ]
  },
  {
   "cell_type": "code",
   "execution_count": 32,
   "metadata": {},
   "outputs": [
    {
     "data": {
      "image/png": "[encoded data removed]",
      "text/plain": [
       "<Figure size 432x288 with 1 Axes>"
      ]
     },
     "metadata": {
      "needs_background": "light"
     },
     "output_type": "display_data"
    }
   ],
   "source": [
    "# Plotting in matplotlib\n",
    "x = range(1, MaxIter+2)\n",
    "plt.plot(x, y_fsol, 'b', label='fSol')\n",
    "plt.plot(x, y_fsolbest, ':r', label='fSolBest')\n",
    "plt.xlabel('Iteration')\n",
    "plt.ylabel('Total Distance')\n",
    "plt.title('Simulated Annealing Algorithm')\n",
    "plt.legend()\n",
    "plt.show()"
   ]
  },
  {
   "cell_type": "code",
   "execution_count": null,
   "metadata": {},
   "outputs": [],
   "source": []
  }
 ],
 "metadata": {
  "kernelspec": {
   "display_name": "Python [conda env:root] *",
   "language": "python",
   "name": "conda-root-py"
  },
  "language_info": {
   "codemirror_mode": {
    "name": "ipython",
    "version": 3
   },
   "file_extension": ".py",
   "mimetype": "text/x-python",
   "name": "python",
   "nbconvert_exporter": "python",
   "pygments_lexer": "ipython3",
   "version": "3.8.3"
  }
 },
 "nbformat": 4,
 "nbformat_minor": 4
}
