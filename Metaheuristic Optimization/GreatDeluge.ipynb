{
 "cells": [
  {
   "cell_type": "code",
   "execution_count": 97,
   "metadata": {},
   "outputs": [],
   "source": [
    "import random\n",
    "import matplotlib.pyplot as plt\n"
   ]
  },
  {
   "cell_type": "code",
   "execution_count": 106,
   "metadata": {},
   "outputs": [],
   "source": [
    "cities = ['A', 'B', 'C', 'E', 'M', 'S']"
   ]
  },
  {
   "cell_type": "code",
   "execution_count": 107,
   "metadata": {},
   "outputs": [],
   "source": [
    "# Represent the Graph as a dictionary of dictionaries\n",
    "A = {'A':0, 'B':10, 'C':15, 'E':14, 'M':11, 'S':10}\n",
    "B = {'A':10, 'B':0, 'C':8, 'E':13 ,'M':15 ,'S':9}\n",
    "C = {'A':15, 'B':8, 'C':0, 'E':11,'M':16,'S':10}\n",
    "E = {'A':14, 'B':13, 'C':11, 'E':0,'M':9,'S':6}\n",
    "M = {'A':11, 'B':15, 'C':16, 'E':9,'M':0,'S':9}\n",
    "S = {'A':10, 'B':9, 'C':10, 'E':6,'M':9,'S':0}\n",
    "Graph = {'A':A, 'B':B, 'C':C, 'E':E, 'M':M, 'S':S}"
   ]
  },
  {
   "cell_type": "code",
   "execution_count": 108,
   "metadata": {},
   "outputs": [],
   "source": [
    "# Minimisation problem\n",
    "# Initialization\n",
    "MaxIter = 20\n",
    "EstQuality = 60 # assume the shortest distance possible is 60 \n",
    "\n"
   ]
  },
  {
   "cell_type": "code",
   "execution_count": 109,
   "metadata": {},
   "outputs": [],
   "source": [
    "# Compute the total distance travelled to complete a cycle\n",
    "# start from a city and visit every city and return to the same city\n",
    "# Input: A path e.g. C-A-M-S-B-E as a list\n",
    "def total_distance(path):\n",
    "    distance = 0\n",
    "    for i in range(1, len(path)):\n",
    "        # add the distance between two adjacent cities\n",
    "        distance += Graph.get(path[i-1]).get(path[i])\n",
    "    \n",
    "    # finally add the distance to come back to the first city from the last city\n",
    "    distance += Graph.get(path[i]).get(path[0])\n",
    "    return distance\n",
    "\n",
    "# swap neighbourhood structure\n",
    "# Given a path two randomly chosen cities are swapped \n",
    "def swap_neighbour(path):\n",
    "    two_cities = random.sample(path, 2)\n",
    "    # find the position of the two cities in the path\n",
    "    pos_city1 = path.index(two_cities[0])\n",
    "    pos_city2 = path.index(two_cities[1])\n",
    "    \n",
    "    # Now swap the two cities in the path\n",
    "    new_path = list(path)\n",
    "    new_path[pos_city1] = two_cities[1]\n",
    "    new_path[pos_city2] = two_cities[0]\n",
    "    \n",
    "    return new_path"
   ]
  },
  {
   "cell_type": "code",
   "execution_count": 131,
   "metadata": {},
   "outputs": [],
   "source": [
    "# Initial solution construction phase\n",
    "# Generate an initial solution at random\n",
    "# Note that the solution is represented as a sequence of cities (a path not a cycle)\n",
    "sol = random.sample(cities, 6)\n",
    "fsol = total_distance(sol)\n",
    "solbest = sol\n",
    "fsolbest = fsol\n",
    "LEVEL = fsol\n",
    "UP = (LEVEL - EstQuality)/MaxIter\n",
    "\n",
    "# keep a list of fsol and fsolbest for plotting\n",
    "y_fsol = [fsol]\n",
    "y_fsolbest = [fsolbest]\n",
    "print(\"Iteration: 0, Best solution: \" + '-'.join(solbest) + \", Best Fit: \" + str(fsolbest))"
   ]
  },
  {
   "cell_type": "code",
   "execution_count": 132,
   "metadata": {},
   "outputs": [
    {
     "name": "stdout",
     "output_type": "stream",
     "text": [
      "Iteration: 1 Best solution: E-M-C-S-B-A Best Fit: 68\n",
      "Iteration: 2 Best solution: E-M-C-S-B-A Best Fit: 68\n",
      "Iteration: 3 Best solution: E-M-C-S-B-A Best Fit: 68\n",
      "Iteration: 4 Best solution: E-M-C-S-B-A Best Fit: 68\n",
      "Iteration: 5 Best solution: E-M-S-C-B-A Best Fit: 60\n",
      "Iteration: 6 Best solution: E-M-S-A-B-C Best Fit: 57\n",
      "Iteration: 7 Best solution: E-M-S-A-B-C Best Fit: 57\n",
      "Iteration: 8 Best solution: E-M-S-A-B-C Best Fit: 57\n",
      "Iteration: 9 Best solution: E-M-S-A-B-C Best Fit: 57\n",
      "Iteration: 10 Best solution: E-M-S-A-B-C Best Fit: 57\n",
      "Iteration: 11 Best solution: E-S-C-B-A-M Best Fit: 54\n",
      "Iteration: 12 Best solution: E-S-C-B-A-M Best Fit: 54\n",
      "Iteration: 13 Best solution: E-S-C-B-A-M Best Fit: 54\n",
      "Iteration: 14 Best solution: E-S-C-B-A-M Best Fit: 54\n",
      "Iteration: 15 Best solution: E-S-C-B-A-M Best Fit: 54\n",
      "Iteration: 16 Best solution: E-S-C-B-A-M Best Fit: 54\n",
      "Iteration: 17 Best solution: E-S-C-B-A-M Best Fit: 54\n",
      "Iteration: 18 Best solution: E-S-C-B-A-M Best Fit: 54\n",
      "Iteration: 19 Best solution: E-S-C-B-A-M Best Fit: 54\n",
      "Iteration: 20 Best solution: E-S-C-B-A-M Best Fit: 54\n"
     ]
    }
   ],
   "source": [
    "# Improvement phase\n",
    "for iteration in range(MaxIter):\n",
    "    # generate a new solution by a swap neighbourhood structure\n",
    "    new_sol = swap_neighbour(sol)\n",
    "    f_new_sol = total_distance(new_sol)\n",
    "    \n",
    "    if f_new_sol < fsolbest:\n",
    "        solbest = new_sol\n",
    "        fsolbest = f_new_sol\n",
    "    \n",
    "    if f_new_sol < LEVEL:\n",
    "        sol = new_sol\n",
    "        fsol = f_new_sol\n",
    "    \n",
    "    # Add to the list for plotting\n",
    "    y_fsol.append(fsol)\n",
    "    y_fsolbest.append(fsolbest)\n",
    "    \n",
    "    print(\"Iteration: \" + str(iteration+1) + \" Best solution: \" + '-'.join(solbest) + \" Best Fit: \"+str(fsolbest))    \n",
    "        \n",
    "    LEVEL -= UP\n",
    "    "
   ]
  },
  {
   "cell_type": "code",
   "execution_count": 121,
   "metadata": {},
   "outputs": [
    {
     "name": "stdout",
     "output_type": "stream",
     "text": [
      "Best solution: ['B', 'C', 'S', 'E', 'M', 'A']\n",
      "Shortest Distance: 54\n"
     ]
    }
   ],
   "source": [
    "print(\"Best solution: \" + '-'.join(solbest))\n",
    "print(\"Shortest Distance: \" + str(fsolbest))"
   ]
  },
  {
   "cell_type": "code",
   "execution_count": 122,
   "metadata": {},
   "outputs": [
    {
     "data": {
      "image/png": "[encoded data removed]",
      "text/plain": [
       "<Figure size 432x288 with 1 Axes>"
      ]
     },
     "metadata": {
      "needs_background": "light"
     },
     "output_type": "display_data"
    }
   ],
   "source": [
    "# Plotting in matplotlib\n",
    "x = range(1, MaxIter+2)\n",
    "plt.plot(x, y_fsol, 'b', label='fSol')\n",
    "plt.plot(x, y_fsolbest, ':r', label='fSolBest')\n",
    "plt.xlabel('Iteration')\n",
    "plt.ylabel('Total Distance')\n",
    "plt.title('Great Deluge Algorithm')\n",
    "plt.legend()\n",
    "plt.show()"
   ]
  },
  {
   "cell_type": "code",
   "execution_count": null,
   "metadata": {},
   "outputs": [],
   "source": []
  },
  {
   "cell_type": "code",
   "execution_count": null,
   "metadata": {},
   "outputs": [],
   "source": []
  }
 ],
 "metadata": {
  "kernelspec": {
   "display_name": "Python [conda env:root] *",
   "language": "python",
   "name": "conda-root-py"
  },
  "language_info": {
   "codemirror_mode": {
    "name": "ipython",
    "version": 3
   },
   "file_extension": ".py",
   "mimetype": "text/x-python",
   "name": "python",
   "nbconvert_exporter": "python",
   "pygments_lexer": "ipython3",
   "version": "3.8.3"
  }
 },
 "nbformat": 4,
 "nbformat_minor": 4
}
