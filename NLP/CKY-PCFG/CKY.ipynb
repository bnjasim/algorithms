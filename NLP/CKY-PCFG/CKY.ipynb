{
 "cells": [
  {
   "cell_type": "code",
   "execution_count": 24,
   "metadata": {},
   "outputs": [],
   "source": [
    "# Read file\n",
    "with open('inputs_fixed/g7.txt') as f:\n",
    "    rules = f.read()\n",
    "\n",
    "rules = rules.split('\\n')\n",
    "\n",
    "# split into A->BC and B->b parts\n",
    "rules1 = []\n",
    "rules2 = []\n",
    "for rule in rules:\n",
    "    a,b = rule.split(\"->\") # A->B C prob\n",
    "    k = b.strip().split(\" \")\n",
    "    if len(k) == 3:\n",
    "        rules1.append(rule)\n",
    "    else:\n",
    "        rules2.append(rule)"
   ]
  },
  {
   "cell_type": "code",
   "execution_count": 25,
   "metadata": {},
   "outputs": [
    {
     "data": {
      "text/plain": [
       "[[0, 1, 2, 1.0],\n",
       " [1, 3, 4, 0.3],\n",
       " [1, 1, 5, 0.7],\n",
       " [5, 6, 1, 1.0],\n",
       " [2, 7, 1, 0.4],\n",
       " [2, 7, 5, 0.2],\n",
       " [2, 2, 5, 0.3],\n",
       " [2, 7, 0, 0.1]]"
      ]
     },
     "execution_count": 25,
     "metadata": {},
     "output_type": "execute_result"
    }
   ],
   "source": [
    "NT = [] # Non Terminals\n",
    "for rule in rules1:\n",
    "    a,b = rule.split(\"->\") # a->c d\n",
    "    a = a.strip() # remove extra spaces\n",
    "    b = b.strip() # remove extra spaces\n",
    "    c,d,p = b.split(\" \")\n",
    "    c = c.strip() # remove extra spaces\n",
    "    d = d.strip() # remove extra spaces\n",
    "    p = float(p.strip()) # probability of the rule\n",
    "    # print(a,c,d)\n",
    "    if a not in NT:\n",
    "        NT.append(a)\n",
    "    if c not in NT:\n",
    "        NT.append(c)\n",
    "    if d not in NT:\n",
    "        NT.append(d)\n",
    "    \n",
    "# NT = [\"S\", \"NP\", \"VP\", \"D\", \"N\", \"PP\", \"V\"]\n",
    "\n",
    "# Create a mapping from Non Terminals to index as well\n",
    "NT_dict = {}\n",
    "for i, a in enumerate(NT):\n",
    "    NT_dict[a] = i\n",
    "\n",
    "# Grammar G has three columns: S -> NP VP \n",
    "G1 = []\n",
    "for rule in rules1:\n",
    "    a,b = rule.split(\"->\") # a->c d\n",
    "    a = a.strip() # remove extra spaces\n",
    "    b = b.strip() # remove extra spaces\n",
    "    c,d,p = b.split(\" \")\n",
    "    c = c.strip() # remove extra spaces\n",
    "    d = d.strip() # remove extra spaces\n",
    "    p = float(p.strip()) # probability value \n",
    "    G1.append([NT_dict.get(a), NT_dict.get(c), NT_dict.get(d), p])\n",
    "\n",
    "G1"
   ]
  },
  {
   "cell_type": "code",
   "execution_count": 32,
   "metadata": {},
   "outputs": [],
   "source": [
    "T = [] # Terminals\n",
    "for rule in rules2:\n",
    "    a,b = rule.split(\"->\") # a->c d\n",
    "    a = a.strip() # remove extra spaces\n",
    "    b = b.strip() # remove extra spaces\n",
    "    t,p = b.split(\" \")\n",
    "    t = t.strip() # remove extra spaces\n",
    "    p = float(p.strip()) # probability of the rule\n",
    "\n",
    "    if t not in T:\n",
    "        T.append(t)\n",
    "    \n",
    "# Create a mapping from Terminals (strings) to index as well\n",
    "T_dict = {}\n",
    "for i, t in enumerate(T):\n",
    "    T_dict[t] = i\n",
    "\n",
    "# Grammar G has two columns: N -> car 0.8 \n",
    "G2 = []\n",
    "for rule in rules2:\n",
    "    a,b = rule.split(\"->\") # a->c d\n",
    "    a = a.strip() # remove extra spaces\n",
    "    b = b.strip() # remove extra spaces\n",
    "    t,p = b.split(\" \")\n",
    "    t = t.strip() # remove extra spaces\n",
    "    p = float(p.strip()) # probability value \n",
    "    G2.append([NT_dict.get(a), T_dict.get(t), p])\n"
   ]
  },
  {
   "cell_type": "code",
   "execution_count": 108,
   "metadata": {},
   "outputs": [
    {
     "data": {
      "text/plain": [
       "4"
      ]
     },
     "execution_count": 108,
     "metadata": {},
     "output_type": "execute_result"
    }
   ],
   "source": [
    "sentence = \"the pilot says this\"\n",
    "words = sentence.split(\" \")\n",
    "n_words = len(words)\n",
    "n_words"
   ]
  },
  {
   "cell_type": "code",
   "execution_count": 109,
   "metadata": {},
   "outputs": [],
   "source": [
    "# Initialize score matrix and back pointer matrix\n",
    "score = [[[0 for k in range(len(NT))] for j in range(n_words+1)] for i in range(n_words+1)]\n",
    "back = [[[0 for k in range(len(NT))] for j in range(n_words+1)] for i in range(n_words+1)]"
   ]
  },
  {
   "cell_type": "code",
   "execution_count": 110,
   "metadata": {},
   "outputs": [],
   "source": [
    "# lexicon (terminal) part of CKY algorithm\n",
    "i = 0\n",
    "for word in words:\n",
    "    w = T_dict.get(word)\n",
    "    for g in G2:\n",
    "        if g[1] == w:\n",
    "            score[i][i+1][g[0]] = g[2]\n",
    "            back[i][i+1][g[0]] = (w,)\n",
    "    i += 1"
   ]
  },
  {
   "cell_type": "code",
   "execution_count": 111,
   "metadata": {},
   "outputs": [],
   "source": [
    "# Non Terminal part of CKY algorithm\n",
    "for span in range(2, n_words+1):\n",
    "    for begin in range(n_words-span+1):\n",
    "        end = begin + span\n",
    "        for split in range(begin+1, end):\n",
    "            for g in G1:\n",
    "                prob = score[begin][split][g[1]] * score[split][end][g[2]] * g[3]\n",
    "                if prob > score[begin][end][g[0]]:\n",
    "                    score[begin][end][g[0]] = prob\n",
    "                    back[begin][end][g[0]] = (split, g[1], g[2])\n",
    "        "
   ]
  },
  {
   "cell_type": "code",
   "execution_count": 112,
   "metadata": {},
   "outputs": [
    {
     "name": "stdout",
     "output_type": "stream",
     "text": [
      "The input string is NOT valid according to the grammar\n"
     ]
    }
   ],
   "source": [
    "# Check validity of the input string\n",
    "if score[0][n_words][0] > 0:\n",
    "    print(\"The input string is valid according to the grammar\")\n",
    "else:\n",
    "    print(\"The input string is NOT valid according to the grammar\")"
   ]
  },
  {
   "cell_type": "code",
   "execution_count": 99,
   "metadata": {},
   "outputs": [],
   "source": [
    "def tree(begin, end, nt, depth):\n",
    "    # get the rule from back-trace\n",
    "    b = back[begin][end][nt]\n",
    "    if len(b) == 1:\n",
    "        # reached a terminal symbol\n",
    "        print(T[b[0]] + \")\")\n",
    "        return True\n",
    "    \n",
    "    A = NT[b[1]]\n",
    "    B = NT[b[2]]\n",
    "    print(\"(\" + A + \" \", end='')\n",
    "    r = tree(begin, b[0], b[1], depth+1)\n",
    "    if r:\n",
    "        print(' '*depth, end='')\n",
    "    \n",
    "    print(\"(\" + B + \" \", end='')\n",
    "    r = tree(b[0], end, b[2], depth+1)\n",
    "    if r:\n",
    "        print(' '*depth, end='')\n",
    "    return False"
   ]
  },
  {
   "cell_type": "code",
   "execution_count": 100,
   "metadata": {},
   "outputs": [
    {
     "name": "stdout",
     "output_type": "stream",
     "text": [
      "(NP (D this)\n",
      " (N flight)\n",
      " (VP (V serves)\n",
      " (NP (NP (D a)\n",
      "   (N cake)\n",
      "   (PP (P with)\n",
      "   (NP (D the)\n",
      "    (N airport)\n",
      "    "
     ]
    },
    {
     "data": {
      "text/plain": [
       "False"
      ]
     },
     "execution_count": 100,
     "metadata": {},
     "output_type": "execute_result"
    }
   ],
   "source": [
    "tree(0, 8, 0, 0)"
   ]
  },
  {
   "cell_type": "code",
   "execution_count": 102,
   "metadata": {},
   "outputs": [
    {
     "name": "stdout",
     "output_type": "stream",
     "text": [
      "Maximum probability value = 1.8144000000000007e-09\n"
     ]
    }
   ],
   "source": [
    "print(\"Maximum probability value = \" + str(score[0][n_words][0]))"
   ]
  }
 ],
 "metadata": {
  "kernelspec": {
   "display_name": "Python [conda env:root] *",
   "language": "python",
   "name": "conda-root-py"
  },
  "language_info": {
   "codemirror_mode": {
    "name": "ipython",
    "version": 3
   },
   "file_extension": ".py",
   "mimetype": "text/x-python",
   "name": "python",
   "nbconvert_exporter": "python",
   "pygments_lexer": "ipython3",
   "version": "3.8.3"
  }
 },
 "nbformat": 4,
 "nbformat_minor": 4
}
